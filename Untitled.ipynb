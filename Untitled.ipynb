{
 "cells": [
  {
   "cell_type": "markdown",
   "metadata": {},
   "source": [
    "##Social WTP + Exclusion Study\n",
    "##Collected on Prolific\n",
    "\n",
    "##Preliminary data (n=5)\n",
    "##11.5.19"
   ]
  },
  {
   "cell_type": "markdown",
   "metadata": {},
   "source": [
    "##Prolific IDs\n",
    "\n",
    "##57fbe878035f6e0001d71a8c:  \n",
    "\n",
    "##5d3cbeefbaf11000011eda09:\n",
    "##2 data files\n",
    "\n",
    "##5bddf0f876219d00014b145e:\n",
    "##2 data files\n",
    "\n",
    "##5cf3953af114bf0019781b1f\n",
    "##1 data file\n",
    "\n",
    "##5c5368e89fcbc40001dbf27f\n",
    "##2 data files"
   ]
  }
 ],
 "metadata": {
  "kernelspec": {
   "display_name": "Python 2",
   "language": "python",
   "name": "python2"
  },
  "language_info": {
   "codemirror_mode": {
    "name": "ipython",
    "version": 2
   },
   "file_extension": ".py",
   "mimetype": "text/x-python",
   "name": "python",
   "nbconvert_exporter": "python",
   "pygments_lexer": "ipython2",
   "version": "2.7.16"
  }
 },
 "nbformat": 4,
 "nbformat_minor": 2
}
